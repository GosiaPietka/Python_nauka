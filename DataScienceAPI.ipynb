{
 "cells": [
  {
   "cell_type": "code",
   "execution_count": 9,
   "id": "b0090b7d",
   "metadata": {},
   "outputs": [],
   "source": [
    "import requests\n",
    "import pandas as pd"
   ]
  },
  {
   "cell_type": "code",
   "execution_count": 10,
   "id": "5e0fc708",
   "metadata": {},
   "outputs": [],
   "source": [
    "salary_data_url = \"https://api.dane.gov.pl/1.4/resources/38525,przecietne-miesieczne-wynagrodzenie-w-sektorze-przedsiebiorstw-dane-miesieczne?lang=pl\""
   ]
  },
  {
   "cell_type": "code",
   "execution_count": 12,
   "id": "447b83ea",
   "metadata": {},
   "outputs": [
    {
     "data": {
      "text/plain": [
       "{'jsonapi': {'version': '1.0'},\n",
       " 'data': {'relationships': {'institution': {'data': {'id': '34',\n",
       "     'type': 'institution'},\n",
       "    'links': {'related': 'https://api.dane.gov.pl/1.4/institutions/34,glowny-urzad-statystyczny'}},\n",
       "   'chart': {'data': {'id': '38525', 'type': 'chart'},\n",
       "    'links': {'related': 'https://api.dane.gov.pl/1.4/resources/38525,przecietne-miesieczne-wynagrodzenie-w-sektorze-przedsiebiorstw-dane-miesieczne/chart'}},\n",
       "   'dataset': {'data': {'id': '1766', 'type': 'dataset'},\n",
       "    'links': {'related': 'https://api.dane.gov.pl/1.4/datasets/1766,wyrownania-sezonowe-przecietne-zatrudnienie-i-przecietne-miesieczne-wynagrodzenie'}},\n",
       "   'tabular_data': {'data': {'id': '38525', 'type': 'tabular_data'},\n",
       "    'links': {'related': 'https://api.dane.gov.pl/1.4/resources/38525/data'}}},\n",
       "  'id': '38525',\n",
       "  'type': 'resource',\n",
       "  'attributes': {'visualization_types': ['table'],\n",
       "   'csv_file_size': 14780,\n",
       "   'views_count': 290,\n",
       "   'jsonld_file_size': 262348,\n",
       "   'modified': '2022-05-11T10:47:58Z',\n",
       "   'format': 'xlsx',\n",
       "   'has_high_value_data': True,\n",
       "   'link': 'https://api.dane.gov.pl/media/resources/20220511/Przeci%C4%99tne_miesi%C4%99czne_wynagrodzenia_brutto_w_sektorze_przedsi%C4%99biorstw_-_dane_miesi%C4%99czne.xlsx',\n",
       "   'media_type': 'file',\n",
       "   'openness_score': 4,\n",
       "   'download_url': 'https://api.dane.gov.pl/resources/38525,przecietne-miesieczne-wynagrodzenie-w-sektorze-przedsiebiorstw-dane-miesieczne/file',\n",
       "   'category': 'Praca i Pomoc Społeczna',\n",
       "   'file_url': 'https://api.dane.gov.pl/media/resources/20220511/Przeci%C4%99tne_miesi%C4%99czne_wynagrodzenia_brutto_w_sektorze_przedsi%C4%99biorstw_-_dane_miesi%C4%99czne.xlsx',\n",
       "   'jsonld_download_url': 'https://api.dane.gov.pl/resources/38525,przecietne-miesieczne-wynagrodzenie-w-sektorze-przedsiebiorstw-dane-miesieczne/jsonld',\n",
       "   'downloads_count': 121,\n",
       "   'files': [{'file_size': 21732,\n",
       "     'format': 'xlsx',\n",
       "     'openness_score': 2,\n",
       "     'download_url': 'https://api.dane.gov.pl/resources/38525,przecietne-miesieczne-wynagrodzenie-w-sektorze-przedsiebiorstw-dane-miesieczne/file'},\n",
       "    {'file_size': 262348,\n",
       "     'format': 'jsonld',\n",
       "     'openness_score': 4,\n",
       "     'download_url': 'https://api.dane.gov.pl/resources/38525,przecietne-miesieczne-wynagrodzenie-w-sektorze-przedsiebiorstw-dane-miesieczne/jsonld'},\n",
       "    {'file_size': 14780,\n",
       "     'format': 'csv',\n",
       "     'openness_score': 3,\n",
       "     'download_url': 'https://api.dane.gov.pl/resources/38525,przecietne-miesieczne-wynagrodzenie-w-sektorze-przedsiebiorstw-dane-miesieczne/csv'}],\n",
       "   'supplements': [],\n",
       "   'jsonld_file_url': 'https://api.dane.gov.pl/media/resources/20220511/Przeci%C4%99tne_miesi%C4%99czne_wynagrodzenia_brutto_w_sektorze_przedsi%C4%99biorstw_-_dane_miesi%C4%99czne.jsonld',\n",
       "   'csv_download_url': 'https://api.dane.gov.pl/resources/38525,przecietne-miesieczne-wynagrodzenie-w-sektorze-przedsiebiorstw-dane-miesieczne/csv',\n",
       "   'csv_file_url': 'https://api.dane.gov.pl/media/resources/20220511/Przeci%C4%99tne_miesi%C4%99czne_wynagrodzenia_brutto_w_sektorze_przedsi%C4%99biorstw_-_dane_miesi%C4%99czne.csv',\n",
       "   'special_signs': [],\n",
       "   'created': '2022-05-11T10:47:58Z',\n",
       "   'title': 'Przeciętne miesięczne wynagrodzenie w sektorze przedsiębiorstw - dane miesięczne',\n",
       "   'data_date': '2022-05-11',\n",
       "   'has_dynamic_data': False,\n",
       "   'verified': '2022-05-11T10:48:08Z',\n",
       "   'regions': [{'hierarchy_label': 'Polska',\n",
       "     'name': 'Polska',\n",
       "     'region_id': '85633723',\n",
       "     'is_additional': False}],\n",
       "   'description': '<p>Dane miesięczne oraz dane kwartalne dotyczące przeciętnego miesięcznego wynagrodzenia w sektorze przedsiębiorstw są wyrównane sezonowo i dniami roboczymi.</p>',\n",
       "   'file_size': 21732,\n",
       "   'is_chart_creation_blocked': False},\n",
       "  'links': {'self': 'https://api.dane.gov.pl/1.4/resources/38525,przecietne-miesieczne-wynagrodzenie-w-sektorze-przedsiebiorstw-dane-miesieczne'}},\n",
       " 'meta': {'path': '/1.4/resources/38525,przecietne-miesieczne-wynagrodzenie-w-sektorze-przedsiebiorstw-dane-miesieczne',\n",
       "  'relative_uri': '/1.4/resources/38525,przecietne-miesieczne-wynagrodzenie-w-sektorze-przedsiebiorstw-dane-miesieczne?lang=pl',\n",
       "  'language': 'pl',\n",
       "  'params': {'lang': 'pl'},\n",
       "  'server_time': '2022-07-15T06:18:09Z'},\n",
       " 'links': {'self': 'http://api.dane.gov.pl/1.4/resources/38525,przecietne-miesieczne-wynagrodzenie-w-sektorze-przedsiebiorstw-dane-miesieczne?lang=pl'}}"
      ]
     },
     "execution_count": 12,
     "metadata": {},
     "output_type": "execute_result"
    }
   ],
   "source": [
    "response = requests.get(salary_data_url)\n",
    "response.json()"
   ]
  },
  {
   "cell_type": "code",
   "execution_count": 6,
   "id": "3fbc0e4b",
   "metadata": {},
   "outputs": [],
   "source": [
    "from pprint import pprint"
   ]
  },
  {
   "cell_type": "code",
   "execution_count": 7,
   "id": "17d52964",
   "metadata": {},
   "outputs": [
    {
     "name": "stdout",
     "output_type": "stream",
     "text": [
      "{'data': {'attributes': {'category': 'Praca i Pomoc Społeczna',\n",
      "                         'created': '2022-05-11T10:47:58Z',\n",
      "                         'csv_download_url': 'https://api.dane.gov.pl/resources/38525,przecietne-miesieczne-wynagrodzenie-w-sektorze-przedsiebiorstw-dane-miesieczne/csv',\n",
      "                         'csv_file_size': 14780,\n",
      "                         'csv_file_url': 'https://api.dane.gov.pl/media/resources/20220511/Przeci%C4%99tne_miesi%C4%99czne_wynagrodzenia_brutto_w_sektorze_przedsi%C4%99biorstw_-_dane_miesi%C4%99czne.csv',\n",
      "                         'data_date': '2022-05-11',\n",
      "                         'description': '<p>Dane miesięczne oraz dane '\n",
      "                                        'kwartalne dotyczące przeciętnego '\n",
      "                                        'miesięcznego wynagrodzenia w sektorze '\n",
      "                                        'przedsiębiorstw są wyrównane sezonowo '\n",
      "                                        'i dniami roboczymi.</p>',\n",
      "                         'download_url': 'https://api.dane.gov.pl/resources/38525,przecietne-miesieczne-wynagrodzenie-w-sektorze-przedsiebiorstw-dane-miesieczne/file',\n",
      "                         'downloads_count': 121,\n",
      "                         'file_size': 21732,\n",
      "                         'file_url': 'https://api.dane.gov.pl/media/resources/20220511/Przeci%C4%99tne_miesi%C4%99czne_wynagrodzenia_brutto_w_sektorze_przedsi%C4%99biorstw_-_dane_miesi%C4%99czne.xlsx',\n",
      "                         'files': [{'download_url': 'https://api.dane.gov.pl/resources/38525,przecietne-miesieczne-wynagrodzenie-w-sektorze-przedsiebiorstw-dane-miesieczne/file',\n",
      "                                    'file_size': 21732,\n",
      "                                    'format': 'xlsx',\n",
      "                                    'openness_score': 2},\n",
      "                                   {'download_url': 'https://api.dane.gov.pl/resources/38525,przecietne-miesieczne-wynagrodzenie-w-sektorze-przedsiebiorstw-dane-miesieczne/jsonld',\n",
      "                                    'file_size': 262348,\n",
      "                                    'format': 'jsonld',\n",
      "                                    'openness_score': 4},\n",
      "                                   {'download_url': 'https://api.dane.gov.pl/resources/38525,przecietne-miesieczne-wynagrodzenie-w-sektorze-przedsiebiorstw-dane-miesieczne/csv',\n",
      "                                    'file_size': 14780,\n",
      "                                    'format': 'csv',\n",
      "                                    'openness_score': 3}],\n",
      "                         'format': 'xlsx',\n",
      "                         'has_dynamic_data': False,\n",
      "                         'has_high_value_data': True,\n",
      "                         'is_chart_creation_blocked': False,\n",
      "                         'jsonld_download_url': 'https://api.dane.gov.pl/resources/38525,przecietne-miesieczne-wynagrodzenie-w-sektorze-przedsiebiorstw-dane-miesieczne/jsonld',\n",
      "                         'jsonld_file_size': 262348,\n",
      "                         'jsonld_file_url': 'https://api.dane.gov.pl/media/resources/20220511/Przeci%C4%99tne_miesi%C4%99czne_wynagrodzenia_brutto_w_sektorze_przedsi%C4%99biorstw_-_dane_miesi%C4%99czne.jsonld',\n",
      "                         'link': 'https://api.dane.gov.pl/media/resources/20220511/Przeci%C4%99tne_miesi%C4%99czne_wynagrodzenia_brutto_w_sektorze_przedsi%C4%99biorstw_-_dane_miesi%C4%99czne.xlsx',\n",
      "                         'media_type': 'file',\n",
      "                         'modified': '2022-05-11T10:47:58Z',\n",
      "                         'openness_score': 4,\n",
      "                         'regions': [{'hierarchy_label': 'Polska',\n",
      "                                      'is_additional': False,\n",
      "                                      'name': 'Polska',\n",
      "                                      'region_id': '85633723'}],\n",
      "                         'special_signs': [],\n",
      "                         'supplements': [],\n",
      "                         'title': 'Przeciętne miesięczne wynagrodzenie w '\n",
      "                                  'sektorze przedsiębiorstw - dane miesięczne',\n",
      "                         'verified': '2022-05-11T10:48:08Z',\n",
      "                         'views_count': 289,\n",
      "                         'visualization_types': ['table']},\n",
      "          'id': '38525',\n",
      "          'links': {'self': 'https://api.dane.gov.pl/1.4/resources/38525,przecietne-miesieczne-wynagrodzenie-w-sektorze-przedsiebiorstw-dane-miesieczne'},\n",
      "          'relationships': {'chart': {'data': {'id': '38525', 'type': 'chart'},\n",
      "                                      'links': {'related': 'https://api.dane.gov.pl/1.4/resources/38525,przecietne-miesieczne-wynagrodzenie-w-sektorze-przedsiebiorstw-dane-miesieczne/chart'}},\n",
      "                            'dataset': {'data': {'id': '1766',\n",
      "                                                 'type': 'dataset'},\n",
      "                                        'links': {'related': 'https://api.dane.gov.pl/1.4/datasets/1766,wyrownania-sezonowe-przecietne-zatrudnienie-i-przecietne-miesieczne-wynagrodzenie'}},\n",
      "                            'institution': {'data': {'id': '34',\n",
      "                                                     'type': 'institution'},\n",
      "                                            'links': {'related': 'https://api.dane.gov.pl/1.4/institutions/34,glowny-urzad-statystyczny'}},\n",
      "                            'tabular_data': {'data': {'id': '38525',\n",
      "                                                      'type': 'tabular_data'},\n",
      "                                             'links': {'related': 'https://api.dane.gov.pl/1.4/resources/38525/data'}}},\n",
      "          'type': 'resource'},\n",
      " 'jsonapi': {'version': '1.0'},\n",
      " 'links': {'self': 'http://api.dane.gov.pl/1.4/resources/38525,przecietne-miesieczne-wynagrodzenie-w-sektorze-przedsiebiorstw-dane-miesieczne?lang=pl'},\n",
      " 'meta': {'language': 'pl',\n",
      "          'params': {'lang': 'pl'},\n",
      "          'path': '/1.4/resources/38525,przecietne-miesieczne-wynagrodzenie-w-sektorze-przedsiebiorstw-dane-miesieczne',\n",
      "          'relative_uri': '/1.4/resources/38525,przecietne-miesieczne-wynagrodzenie-w-sektorze-przedsiebiorstw-dane-miesieczne?lang=pl',\n",
      "          'server_time': '2022-07-15T06:00:03Z'}}\n"
     ]
    }
   ],
   "source": [
    "pprint(response.json())"
   ]
  },
  {
   "cell_type": "code",
   "execution_count": 13,
   "id": "cd7512ea",
   "metadata": {},
   "outputs": [],
   "source": [
    "salary_csv_url = response.json()['data']['attributes']['csv_download_url']"
   ]
  },
  {
   "cell_type": "code",
   "execution_count": 14,
   "id": "e57d5b54",
   "metadata": {},
   "outputs": [
    {
     "data": {
      "text/html": [
       "<div>\n",
       "<style scoped>\n",
       "    .dataframe tbody tr th:only-of-type {\n",
       "        vertical-align: middle;\n",
       "    }\n",
       "\n",
       "    .dataframe tbody tr th {\n",
       "        vertical-align: top;\n",
       "    }\n",
       "\n",
       "    .dataframe thead th {\n",
       "        text-align: right;\n",
       "    }\n",
       "</style>\n",
       "<table border=\"1\" class=\"dataframe\">\n",
       "  <thead>\n",
       "    <tr style=\"text-align: right;\">\n",
       "      <th></th>\n",
       "      <th>Zmienna</th>\n",
       "      <th>Jednostka terytorialna</th>\n",
       "      <th>Jednostka</th>\n",
       "      <th>Rok</th>\n",
       "      <th>Miesiąc</th>\n",
       "      <th>Wartość</th>\n",
       "    </tr>\n",
       "  </thead>\n",
       "  <tbody>\n",
       "    <tr>\n",
       "      <th>0</th>\n",
       "      <td>Przeciętne miesięczne wynagrodzenia brutto w s...</td>\n",
       "      <td>Polska</td>\n",
       "      <td>zł</td>\n",
       "      <td>2010</td>\n",
       "      <td>1</td>\n",
       "      <td>3358.40</td>\n",
       "    </tr>\n",
       "    <tr>\n",
       "      <th>1</th>\n",
       "      <td>Przeciętne miesięczne wynagrodzenia brutto w s...</td>\n",
       "      <td>Polska</td>\n",
       "      <td>zł</td>\n",
       "      <td>2010</td>\n",
       "      <td>2</td>\n",
       "      <td>3374.26</td>\n",
       "    </tr>\n",
       "    <tr>\n",
       "      <th>2</th>\n",
       "      <td>Przeciętne miesięczne wynagrodzenia brutto w s...</td>\n",
       "      <td>Polska</td>\n",
       "      <td>zł</td>\n",
       "      <td>2010</td>\n",
       "      <td>3</td>\n",
       "      <td>3403.03</td>\n",
       "    </tr>\n",
       "    <tr>\n",
       "      <th>3</th>\n",
       "      <td>Przeciętne miesięczne wynagrodzenia brutto w s...</td>\n",
       "      <td>Polska</td>\n",
       "      <td>zł</td>\n",
       "      <td>2010</td>\n",
       "      <td>4</td>\n",
       "      <td>3387.80</td>\n",
       "    </tr>\n",
       "    <tr>\n",
       "      <th>4</th>\n",
       "      <td>Przeciętne miesięczne wynagrodzenia brutto w s...</td>\n",
       "      <td>Polska</td>\n",
       "      <td>zł</td>\n",
       "      <td>2010</td>\n",
       "      <td>5</td>\n",
       "      <td>3431.09</td>\n",
       "    </tr>\n",
       "    <tr>\n",
       "      <th>...</th>\n",
       "      <td>...</td>\n",
       "      <td>...</td>\n",
       "      <td>...</td>\n",
       "      <td>...</td>\n",
       "      <td>...</td>\n",
       "      <td>...</td>\n",
       "    </tr>\n",
       "    <tr>\n",
       "      <th>142</th>\n",
       "      <td>Przeciętne miesięczne wynagrodzenia brutto w s...</td>\n",
       "      <td>Polska</td>\n",
       "      <td>zł</td>\n",
       "      <td>2021</td>\n",
       "      <td>11</td>\n",
       "      <td>6060.89</td>\n",
       "    </tr>\n",
       "    <tr>\n",
       "      <th>143</th>\n",
       "      <td>Przeciętne miesięczne wynagrodzenia brutto w s...</td>\n",
       "      <td>Polska</td>\n",
       "      <td>zł</td>\n",
       "      <td>2021</td>\n",
       "      <td>12</td>\n",
       "      <td>6202.86</td>\n",
       "    </tr>\n",
       "    <tr>\n",
       "      <th>144</th>\n",
       "      <td>Przeciętne miesięczne wynagrodzenia brutto w s...</td>\n",
       "      <td>Polska</td>\n",
       "      <td>zł</td>\n",
       "      <td>2022</td>\n",
       "      <td>1</td>\n",
       "      <td>6141.78</td>\n",
       "    </tr>\n",
       "    <tr>\n",
       "      <th>145</th>\n",
       "      <td>Przeciętne miesięczne wynagrodzenia brutto w s...</td>\n",
       "      <td>Polska</td>\n",
       "      <td>zł</td>\n",
       "      <td>2022</td>\n",
       "      <td>2</td>\n",
       "      <td>6304.29</td>\n",
       "    </tr>\n",
       "    <tr>\n",
       "      <th>146</th>\n",
       "      <td>Przeciętne miesięczne wynagrodzenia brutto w s...</td>\n",
       "      <td>Polska</td>\n",
       "      <td>zł</td>\n",
       "      <td>2022</td>\n",
       "      <td>3</td>\n",
       "      <td>6437.82</td>\n",
       "    </tr>\n",
       "  </tbody>\n",
       "</table>\n",
       "<p>147 rows × 6 columns</p>\n",
       "</div>"
      ],
      "text/plain": [
       "                                               Zmienna Jednostka terytorialna  \\\n",
       "0    Przeciętne miesięczne wynagrodzenia brutto w s...                 Polska   \n",
       "1    Przeciętne miesięczne wynagrodzenia brutto w s...                 Polska   \n",
       "2    Przeciętne miesięczne wynagrodzenia brutto w s...                 Polska   \n",
       "3    Przeciętne miesięczne wynagrodzenia brutto w s...                 Polska   \n",
       "4    Przeciętne miesięczne wynagrodzenia brutto w s...                 Polska   \n",
       "..                                                 ...                    ...   \n",
       "142  Przeciętne miesięczne wynagrodzenia brutto w s...                 Polska   \n",
       "143  Przeciętne miesięczne wynagrodzenia brutto w s...                 Polska   \n",
       "144  Przeciętne miesięczne wynagrodzenia brutto w s...                 Polska   \n",
       "145  Przeciętne miesięczne wynagrodzenia brutto w s...                 Polska   \n",
       "146  Przeciętne miesięczne wynagrodzenia brutto w s...                 Polska   \n",
       "\n",
       "    Jednostka   Rok  Miesiąc  Wartość  \n",
       "0          zł  2010        1  3358.40  \n",
       "1          zł  2010        2  3374.26  \n",
       "2          zł  2010        3  3403.03  \n",
       "3          zł  2010        4  3387.80  \n",
       "4          zł  2010        5  3431.09  \n",
       "..        ...   ...      ...      ...  \n",
       "142        zł  2021       11  6060.89  \n",
       "143        zł  2021       12  6202.86  \n",
       "144        zł  2022        1  6141.78  \n",
       "145        zł  2022        2  6304.29  \n",
       "146        zł  2022        3  6437.82  \n",
       "\n",
       "[147 rows x 6 columns]"
      ]
     },
     "execution_count": 14,
     "metadata": {},
     "output_type": "execute_result"
    }
   ],
   "source": [
    "pd.read_csv(salary_csv_url)"
   ]
  },
  {
   "cell_type": "code",
   "execution_count": 15,
   "id": "c5387bee",
   "metadata": {},
   "outputs": [],
   "source": [
    "salary_df = pd.read_csv(salary_csv_url)"
   ]
  },
  {
   "cell_type": "code",
   "execution_count": 16,
   "id": "b1d0137e",
   "metadata": {},
   "outputs": [],
   "source": [
    "salary_df = salary_df[['Rok', 'Miesiąc', 'Wartość']]"
   ]
  },
  {
   "cell_type": "code",
   "execution_count": 17,
   "id": "8105023d",
   "metadata": {},
   "outputs": [
    {
     "data": {
      "text/html": [
       "<div>\n",
       "<style scoped>\n",
       "    .dataframe tbody tr th:only-of-type {\n",
       "        vertical-align: middle;\n",
       "    }\n",
       "\n",
       "    .dataframe tbody tr th {\n",
       "        vertical-align: top;\n",
       "    }\n",
       "\n",
       "    .dataframe thead th {\n",
       "        text-align: right;\n",
       "    }\n",
       "</style>\n",
       "<table border=\"1\" class=\"dataframe\">\n",
       "  <thead>\n",
       "    <tr style=\"text-align: right;\">\n",
       "      <th></th>\n",
       "      <th>Rok</th>\n",
       "      <th>Miesiąc</th>\n",
       "      <th>Wartość</th>\n",
       "    </tr>\n",
       "  </thead>\n",
       "  <tbody>\n",
       "    <tr>\n",
       "      <th>0</th>\n",
       "      <td>2010</td>\n",
       "      <td>1</td>\n",
       "      <td>3358.40</td>\n",
       "    </tr>\n",
       "    <tr>\n",
       "      <th>1</th>\n",
       "      <td>2010</td>\n",
       "      <td>2</td>\n",
       "      <td>3374.26</td>\n",
       "    </tr>\n",
       "    <tr>\n",
       "      <th>2</th>\n",
       "      <td>2010</td>\n",
       "      <td>3</td>\n",
       "      <td>3403.03</td>\n",
       "    </tr>\n",
       "    <tr>\n",
       "      <th>3</th>\n",
       "      <td>2010</td>\n",
       "      <td>4</td>\n",
       "      <td>3387.80</td>\n",
       "    </tr>\n",
       "    <tr>\n",
       "      <th>4</th>\n",
       "      <td>2010</td>\n",
       "      <td>5</td>\n",
       "      <td>3431.09</td>\n",
       "    </tr>\n",
       "    <tr>\n",
       "      <th>...</th>\n",
       "      <td>...</td>\n",
       "      <td>...</td>\n",
       "      <td>...</td>\n",
       "    </tr>\n",
       "    <tr>\n",
       "      <th>142</th>\n",
       "      <td>2021</td>\n",
       "      <td>11</td>\n",
       "      <td>6060.89</td>\n",
       "    </tr>\n",
       "    <tr>\n",
       "      <th>143</th>\n",
       "      <td>2021</td>\n",
       "      <td>12</td>\n",
       "      <td>6202.86</td>\n",
       "    </tr>\n",
       "    <tr>\n",
       "      <th>144</th>\n",
       "      <td>2022</td>\n",
       "      <td>1</td>\n",
       "      <td>6141.78</td>\n",
       "    </tr>\n",
       "    <tr>\n",
       "      <th>145</th>\n",
       "      <td>2022</td>\n",
       "      <td>2</td>\n",
       "      <td>6304.29</td>\n",
       "    </tr>\n",
       "    <tr>\n",
       "      <th>146</th>\n",
       "      <td>2022</td>\n",
       "      <td>3</td>\n",
       "      <td>6437.82</td>\n",
       "    </tr>\n",
       "  </tbody>\n",
       "</table>\n",
       "<p>147 rows × 3 columns</p>\n",
       "</div>"
      ],
      "text/plain": [
       "      Rok  Miesiąc  Wartość\n",
       "0    2010        1  3358.40\n",
       "1    2010        2  3374.26\n",
       "2    2010        3  3403.03\n",
       "3    2010        4  3387.80\n",
       "4    2010        5  3431.09\n",
       "..    ...      ...      ...\n",
       "142  2021       11  6060.89\n",
       "143  2021       12  6202.86\n",
       "144  2022        1  6141.78\n",
       "145  2022        2  6304.29\n",
       "146  2022        3  6437.82\n",
       "\n",
       "[147 rows x 3 columns]"
      ]
     },
     "execution_count": 17,
     "metadata": {},
     "output_type": "execute_result"
    }
   ],
   "source": [
    "salary_df"
   ]
  },
  {
   "cell_type": "code",
   "execution_count": 18,
   "id": "b663749e",
   "metadata": {},
   "outputs": [],
   "source": [
    "salary_df.columns = ['rok', 'miesiac','wartosc']"
   ]
  },
  {
   "cell_type": "code",
   "execution_count": 19,
   "id": "91d7a6ab",
   "metadata": {},
   "outputs": [
    {
     "data": {
      "text/html": [
       "<div>\n",
       "<style scoped>\n",
       "    .dataframe tbody tr th:only-of-type {\n",
       "        vertical-align: middle;\n",
       "    }\n",
       "\n",
       "    .dataframe tbody tr th {\n",
       "        vertical-align: top;\n",
       "    }\n",
       "\n",
       "    .dataframe thead th {\n",
       "        text-align: right;\n",
       "    }\n",
       "</style>\n",
       "<table border=\"1\" class=\"dataframe\">\n",
       "  <thead>\n",
       "    <tr style=\"text-align: right;\">\n",
       "      <th></th>\n",
       "      <th>rok</th>\n",
       "      <th>miesiac</th>\n",
       "      <th>wartosc</th>\n",
       "    </tr>\n",
       "  </thead>\n",
       "  <tbody>\n",
       "    <tr>\n",
       "      <th>0</th>\n",
       "      <td>2010</td>\n",
       "      <td>1</td>\n",
       "      <td>3358.40</td>\n",
       "    </tr>\n",
       "    <tr>\n",
       "      <th>1</th>\n",
       "      <td>2010</td>\n",
       "      <td>2</td>\n",
       "      <td>3374.26</td>\n",
       "    </tr>\n",
       "    <tr>\n",
       "      <th>2</th>\n",
       "      <td>2010</td>\n",
       "      <td>3</td>\n",
       "      <td>3403.03</td>\n",
       "    </tr>\n",
       "    <tr>\n",
       "      <th>3</th>\n",
       "      <td>2010</td>\n",
       "      <td>4</td>\n",
       "      <td>3387.80</td>\n",
       "    </tr>\n",
       "    <tr>\n",
       "      <th>4</th>\n",
       "      <td>2010</td>\n",
       "      <td>5</td>\n",
       "      <td>3431.09</td>\n",
       "    </tr>\n",
       "    <tr>\n",
       "      <th>...</th>\n",
       "      <td>...</td>\n",
       "      <td>...</td>\n",
       "      <td>...</td>\n",
       "    </tr>\n",
       "    <tr>\n",
       "      <th>142</th>\n",
       "      <td>2021</td>\n",
       "      <td>11</td>\n",
       "      <td>6060.89</td>\n",
       "    </tr>\n",
       "    <tr>\n",
       "      <th>143</th>\n",
       "      <td>2021</td>\n",
       "      <td>12</td>\n",
       "      <td>6202.86</td>\n",
       "    </tr>\n",
       "    <tr>\n",
       "      <th>144</th>\n",
       "      <td>2022</td>\n",
       "      <td>1</td>\n",
       "      <td>6141.78</td>\n",
       "    </tr>\n",
       "    <tr>\n",
       "      <th>145</th>\n",
       "      <td>2022</td>\n",
       "      <td>2</td>\n",
       "      <td>6304.29</td>\n",
       "    </tr>\n",
       "    <tr>\n",
       "      <th>146</th>\n",
       "      <td>2022</td>\n",
       "      <td>3</td>\n",
       "      <td>6437.82</td>\n",
       "    </tr>\n",
       "  </tbody>\n",
       "</table>\n",
       "<p>147 rows × 3 columns</p>\n",
       "</div>"
      ],
      "text/plain": [
       "      rok  miesiac  wartosc\n",
       "0    2010        1  3358.40\n",
       "1    2010        2  3374.26\n",
       "2    2010        3  3403.03\n",
       "3    2010        4  3387.80\n",
       "4    2010        5  3431.09\n",
       "..    ...      ...      ...\n",
       "142  2021       11  6060.89\n",
       "143  2021       12  6202.86\n",
       "144  2022        1  6141.78\n",
       "145  2022        2  6304.29\n",
       "146  2022        3  6437.82\n",
       "\n",
       "[147 rows x 3 columns]"
      ]
     },
     "execution_count": 19,
     "metadata": {},
     "output_type": "execute_result"
    }
   ],
   "source": [
    "salary_df"
   ]
  },
  {
   "cell_type": "code",
   "execution_count": 20,
   "id": "c0732acb",
   "metadata": {},
   "outputs": [
    {
     "data": {
      "text/plain": [
       "rok          int64\n",
       "miesiac      int64\n",
       "wartosc    float64\n",
       "dtype: object"
      ]
     },
     "execution_count": 20,
     "metadata": {},
     "output_type": "execute_result"
    }
   ],
   "source": [
    "salary_df.dtypes"
   ]
  },
  {
   "cell_type": "code",
   "execution_count": 21,
   "id": "4f76c4a6",
   "metadata": {},
   "outputs": [],
   "source": [
    "salary_df.rok = salary_df.rok.astype(str) #zmiana typu na str"
   ]
  },
  {
   "cell_type": "code",
   "execution_count": 22,
   "id": "dc097d9f",
   "metadata": {},
   "outputs": [],
   "source": [
    "salary_df.miesiac = salary_df.miesiac.astype(str)"
   ]
  },
  {
   "cell_type": "code",
   "execution_count": 23,
   "id": "58022aca",
   "metadata": {},
   "outputs": [
    {
     "data": {
      "text/plain": [
       "rok         object\n",
       "miesiac     object\n",
       "wartosc    float64\n",
       "dtype: object"
      ]
     },
     "execution_count": 23,
     "metadata": {},
     "output_type": "execute_result"
    }
   ],
   "source": [
    "salary_df.dtypes"
   ]
  },
  {
   "cell_type": "code",
   "execution_count": 25,
   "id": "88dbb648",
   "metadata": {},
   "outputs": [],
   "source": [
    "salary_df['okres'] = salary_df.rok + '-' + salary_df.miesiac"
   ]
  },
  {
   "cell_type": "code",
   "execution_count": 26,
   "id": "d6155632",
   "metadata": {},
   "outputs": [
    {
     "data": {
      "text/html": [
       "<div>\n",
       "<style scoped>\n",
       "    .dataframe tbody tr th:only-of-type {\n",
       "        vertical-align: middle;\n",
       "    }\n",
       "\n",
       "    .dataframe tbody tr th {\n",
       "        vertical-align: top;\n",
       "    }\n",
       "\n",
       "    .dataframe thead th {\n",
       "        text-align: right;\n",
       "    }\n",
       "</style>\n",
       "<table border=\"1\" class=\"dataframe\">\n",
       "  <thead>\n",
       "    <tr style=\"text-align: right;\">\n",
       "      <th></th>\n",
       "      <th>rok</th>\n",
       "      <th>miesiac</th>\n",
       "      <th>wartosc</th>\n",
       "      <th>okres</th>\n",
       "    </tr>\n",
       "  </thead>\n",
       "  <tbody>\n",
       "    <tr>\n",
       "      <th>0</th>\n",
       "      <td>2010</td>\n",
       "      <td>1</td>\n",
       "      <td>3358.40</td>\n",
       "      <td>2010-1</td>\n",
       "    </tr>\n",
       "    <tr>\n",
       "      <th>1</th>\n",
       "      <td>2010</td>\n",
       "      <td>2</td>\n",
       "      <td>3374.26</td>\n",
       "      <td>2010-2</td>\n",
       "    </tr>\n",
       "    <tr>\n",
       "      <th>2</th>\n",
       "      <td>2010</td>\n",
       "      <td>3</td>\n",
       "      <td>3403.03</td>\n",
       "      <td>2010-3</td>\n",
       "    </tr>\n",
       "    <tr>\n",
       "      <th>3</th>\n",
       "      <td>2010</td>\n",
       "      <td>4</td>\n",
       "      <td>3387.80</td>\n",
       "      <td>2010-4</td>\n",
       "    </tr>\n",
       "    <tr>\n",
       "      <th>4</th>\n",
       "      <td>2010</td>\n",
       "      <td>5</td>\n",
       "      <td>3431.09</td>\n",
       "      <td>2010-5</td>\n",
       "    </tr>\n",
       "    <tr>\n",
       "      <th>...</th>\n",
       "      <td>...</td>\n",
       "      <td>...</td>\n",
       "      <td>...</td>\n",
       "      <td>...</td>\n",
       "    </tr>\n",
       "    <tr>\n",
       "      <th>142</th>\n",
       "      <td>2021</td>\n",
       "      <td>11</td>\n",
       "      <td>6060.89</td>\n",
       "      <td>2021-11</td>\n",
       "    </tr>\n",
       "    <tr>\n",
       "      <th>143</th>\n",
       "      <td>2021</td>\n",
       "      <td>12</td>\n",
       "      <td>6202.86</td>\n",
       "      <td>2021-12</td>\n",
       "    </tr>\n",
       "    <tr>\n",
       "      <th>144</th>\n",
       "      <td>2022</td>\n",
       "      <td>1</td>\n",
       "      <td>6141.78</td>\n",
       "      <td>2022-1</td>\n",
       "    </tr>\n",
       "    <tr>\n",
       "      <th>145</th>\n",
       "      <td>2022</td>\n",
       "      <td>2</td>\n",
       "      <td>6304.29</td>\n",
       "      <td>2022-2</td>\n",
       "    </tr>\n",
       "    <tr>\n",
       "      <th>146</th>\n",
       "      <td>2022</td>\n",
       "      <td>3</td>\n",
       "      <td>6437.82</td>\n",
       "      <td>2022-3</td>\n",
       "    </tr>\n",
       "  </tbody>\n",
       "</table>\n",
       "<p>147 rows × 4 columns</p>\n",
       "</div>"
      ],
      "text/plain": [
       "      rok miesiac  wartosc    okres\n",
       "0    2010       1  3358.40   2010-1\n",
       "1    2010       2  3374.26   2010-2\n",
       "2    2010       3  3403.03   2010-3\n",
       "3    2010       4  3387.80   2010-4\n",
       "4    2010       5  3431.09   2010-5\n",
       "..    ...     ...      ...      ...\n",
       "142  2021      11  6060.89  2021-11\n",
       "143  2021      12  6202.86  2021-12\n",
       "144  2022       1  6141.78   2022-1\n",
       "145  2022       2  6304.29   2022-2\n",
       "146  2022       3  6437.82   2022-3\n",
       "\n",
       "[147 rows x 4 columns]"
      ]
     },
     "execution_count": 26,
     "metadata": {},
     "output_type": "execute_result"
    }
   ],
   "source": [
    "salary_df"
   ]
  },
  {
   "cell_type": "code",
   "execution_count": 27,
   "id": "c14bba45",
   "metadata": {},
   "outputs": [
    {
     "data": {
      "text/plain": [
       "<AxesSubplot:xlabel='okres'>"
      ]
     },
     "execution_count": 27,
     "metadata": {},
     "output_type": "execute_result"
    },
    {
     "data": {
      "image/png": "[encoded data removed]",
      "text/plain": [
       "<Figure size 432x288 with 1 Axes>"
      ]
     },
     "metadata": {
      "needs_background": "light"
     },
     "output_type": "display_data"
    }
   ],
   "source": [
    "salary_df.plot(x='okres', y='wartosc')"
   ]
  },
  {
   "cell_type": "code",
   "execution_count": 28,
   "id": "6b3129a1",
   "metadata": {},
   "outputs": [],
   "source": [
    "import matplotlib.pyplot as plt"
   ]
  },
  {
   "cell_type": "code",
   "execution_count": 30,
   "id": "598eac6b",
   "metadata": {},
   "outputs": [],
   "source": [
    "plt.style.use('ggplot')"
   ]
  },
  {
   "cell_type": "code",
   "execution_count": 31,
   "id": "b75d2df0",
   "metadata": {},
   "outputs": [
    {
     "data": {
      "text/plain": [
       "<AxesSubplot:xlabel='okres'>"
      ]
     },
     "execution_count": 31,
     "metadata": {},
     "output_type": "execute_result"
    },
    {
     "data": {
      "image/png": "[encoded data removed]",
      "text/plain": [
       "<Figure size 432x288 with 1 Axes>"
      ]
     },
     "metadata": {},
     "output_type": "display_data"
    }
   ],
   "source": [
    "salary_df.plot(x='okres', y='wartosc')"
   ]
  },
  {
   "cell_type": "code",
   "execution_count": null,
   "id": "185e8ff9",
   "metadata": {},
   "outputs": [],
   "source": []
  }
 ],
 "metadata": {
  "kernelspec": {
   "display_name": "Python 3 (ipykernel)",
   "language": "python",
   "name": "python3"
  },
  "language_info": {
   "codemirror_mode": {
    "name": "ipython",
    "version": 3
   },
   "file_extension": ".py",
   "mimetype": "text/x-python",
   "name": "python",
   "nbconvert_exporter": "python",
   "pygments_lexer": "ipython3",
   "version": "3.10.4"
  }
 },
 "nbformat": 4,
 "nbformat_minor": 5
}
